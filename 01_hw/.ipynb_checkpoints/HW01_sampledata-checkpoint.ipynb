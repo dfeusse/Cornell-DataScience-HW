{
 "cells": [
  {
   "cell_type": "code",
   "execution_count": 224,
   "metadata": {
    "collapsed": false
   },
   "outputs": [],
   "source": [
    "# Daniel Feusse\n",
    "# df378\n",
    "# MBA\n",
    "# not working in a group, completed the assignment by myself"
   ]
  },
  {
   "cell_type": "code",
   "execution_count": 225,
   "metadata": {
    "collapsed": false
   },
   "outputs": [
    {
     "data": {
      "text/plain": [
       "<pyspark.context.SparkContext at 0x10f02e7d0>"
      ]
     },
     "execution_count": 225,
     "metadata": {},
     "output_type": "execute_result"
    }
   ],
   "source": [
    "sc"
   ]
  },
  {
   "cell_type": "code",
   "execution_count": 226,
   "metadata": {
    "collapsed": true
   },
   "outputs": [],
   "source": [
    "import pandas as pd\n",
    "import numpy as np\n",
    "\n",
    "%matplotlib inline\n",
    "import matplotlib.pyplot as plt"
   ]
  },
  {
   "cell_type": "code",
   "execution_count": 227,
   "metadata": {
    "collapsed": false
   },
   "outputs": [],
   "source": [
    "# ------ 2.1 Summary Statistics ------\n",
    "\n",
    "# plot a histogram of integer and categorical features\n",
    "# working alone so plotting one of each (one I, one C)\n",
    "# also compute the mean and std dev of each column"
   ]
  },
  {
   "cell_type": "code",
   "execution_count": 228,
   "metadata": {
    "collapsed": false
   },
   "outputs": [
    {
     "name": "stdout",
     "output_type": "stream",
     "text": [
      "                  0             1              2             3             4   \\\n",
      "count  100000.000000  55587.000000  100000.000000  80898.000000  80466.000000   \n",
      "mean        0.226630      3.768723     112.863730     40.744913      8.280317   \n",
      "std         0.418653     10.451209     401.522636    538.818822     10.836336   \n",
      "min         0.000000      0.000000      -2.000000      0.000000      0.000000   \n",
      "25%         0.000000      0.000000       0.000000      3.000000      2.000000   \n",
      "50%         0.000000      1.000000       3.000000      8.000000      5.000000   \n",
      "75%         0.000000      3.000000      40.000000     23.000000     11.000000   \n",
      "max         1.000000    556.000000   18522.000000  65535.000000    417.000000   \n",
      "\n",
      "                   5             6             7             8             9   \\\n",
      "count    95240.000000  74893.000000  95281.000000  99893.000000  95281.000000   \n",
      "mean     17592.599402    139.685084     15.222090     13.574825    125.294907   \n",
      "std      65797.898069    371.776092     65.460487     46.541593    286.415686   \n",
      "min          0.000000      0.000000      0.000000      0.000000      0.000000   \n",
      "25%        228.000000      9.000000      0.000000      2.000000     10.000000   \n",
      "50%       2213.000000     37.000000      3.000000      8.000000     40.000000   \n",
      "75%      10209.000000    122.000000     11.000000     20.000000    120.000000   \n",
      "max    1741128.000000  16290.000000   8807.000000   4677.000000  12661.000000   \n",
      "\n",
      "                 10            11            12            13  \n",
      "count  55587.000000  95281.000000  22820.000000  80466.000000  \n",
      "mean       0.620109      2.400269      0.937774     11.607636  \n",
      "std        0.677055      4.629926      5.327668     52.044556  \n",
      "min        0.000000      0.000000      0.000000      0.000000  \n",
      "25%        0.000000      0.000000      0.000000      2.000000  \n",
      "50%        1.000000      1.000000      0.000000      5.000000  \n",
      "75%        1.000000      2.000000      1.000000     13.000000  \n",
      "max        6.000000    104.000000    493.000000   6558.000000  \n",
      "<class 'pandas.core.frame.DataFrame'>\n",
      "Int64Index: 5 entries, 0 to 4\n",
      "Data columns (total 40 columns):\n",
      "0     5  non-null values\n",
      "1     4  non-null values\n",
      "2     5  non-null values\n",
      "3     3  non-null values\n",
      "4     4  non-null values\n",
      "5     5  non-null values\n",
      "6     4  non-null values\n",
      "7     5  non-null values\n",
      "8     5  non-null values\n",
      "9     5  non-null values\n",
      "10    4  non-null values\n",
      "11    5  non-null values\n",
      "12    1  non-null values\n",
      "13    4  non-null values\n",
      "14    5  non-null values\n",
      "15    5  non-null values\n",
      "16    5  non-null values\n",
      "17    5  non-null values\n",
      "18    5  non-null values\n",
      "19    5  non-null values\n",
      "20    5  non-null values\n",
      "21    5  non-null values\n",
      "22    5  non-null values\n",
      "23    5  non-null values\n",
      "24    5  non-null values\n",
      "25    5  non-null values\n",
      "26    5  non-null values\n",
      "27    5  non-null values\n",
      "28    5  non-null values\n",
      "29    5  non-null values\n",
      "30    5  non-null values\n",
      "31    5  non-null values\n",
      "32    2  non-null values\n",
      "33    2  non-null values\n",
      "34    5  non-null values\n",
      "35    1  non-null values\n",
      "36    5  non-null values\n",
      "37    5  non-null values\n",
      "38    2  non-null values\n",
      "39    2  non-null values\n",
      "dtypes: float64(12), int64(2), object(26)\n"
     ]
    }
   ],
   "source": [
    "initial_data = pd.read_csv('dac_sample/dac_sample.txt', sep=\"\\t\", header=None)\n",
    "print initial_data.describe()\n",
    "print initial_data.head()"
   ]
  },
  {
   "cell_type": "code",
   "execution_count": 229,
   "metadata": {
    "collapsed": false
   },
   "outputs": [
    {
     "data": {
      "text/html": [
       "<pre>\n",
       "&lt;class 'pandas.core.frame.DataFrame'&gt;\n",
       "Int64Index: 5 entries, 0 to 4\n",
       "Data columns (total 40 columns):\n",
       "Clicked    5  non-null values\n",
       "I1         4  non-null values\n",
       "I2         5  non-null values\n",
       "I3         3  non-null values\n",
       "I4         4  non-null values\n",
       "I5         5  non-null values\n",
       "I6         4  non-null values\n",
       "I7         5  non-null values\n",
       "I8         5  non-null values\n",
       "I9         5  non-null values\n",
       "I10        4  non-null values\n",
       "I11        5  non-null values\n",
       "I12        1  non-null values\n",
       "I13        4  non-null values\n",
       "C1         5  non-null values\n",
       "C2         5  non-null values\n",
       "C3         5  non-null values\n",
       "C4         5  non-null values\n",
       "C5         5  non-null values\n",
       "C6         5  non-null values\n",
       "C7         5  non-null values\n",
       "C8         5  non-null values\n",
       "C9         5  non-null values\n",
       "C10        5  non-null values\n",
       "C11        5  non-null values\n",
       "C12        5  non-null values\n",
       "C13        5  non-null values\n",
       "C14        5  non-null values\n",
       "C15        5  non-null values\n",
       "C16        5  non-null values\n",
       "C17        5  non-null values\n",
       "C18        5  non-null values\n",
       "C19        2  non-null values\n",
       "C20        2  non-null values\n",
       "C21        5  non-null values\n",
       "C22        1  non-null values\n",
       "C23        5  non-null values\n",
       "C24        5  non-null values\n",
       "C25        2  non-null values\n",
       "C26        2  non-null values\n",
       "dtypes: float64(12), int64(2), object(26)\n",
       "</pre>"
      ],
      "text/plain": [
       "<class 'pandas.core.frame.DataFrame'>\n",
       "Int64Index: 5 entries, 0 to 4\n",
       "Data columns (total 40 columns):\n",
       "Clicked    5  non-null values\n",
       "I1         4  non-null values\n",
       "I2         5  non-null values\n",
       "I3         3  non-null values\n",
       "I4         4  non-null values\n",
       "I5         5  non-null values\n",
       "I6         4  non-null values\n",
       "I7         5  non-null values\n",
       "I8         5  non-null values\n",
       "I9         5  non-null values\n",
       "I10        4  non-null values\n",
       "I11        5  non-null values\n",
       "I12        1  non-null values\n",
       "I13        4  non-null values\n",
       "C1         5  non-null values\n",
       "C2         5  non-null values\n",
       "C3         5  non-null values\n",
       "C4         5  non-null values\n",
       "C5         5  non-null values\n",
       "C6         5  non-null values\n",
       "C7         5  non-null values\n",
       "C8         5  non-null values\n",
       "C9         5  non-null values\n",
       "C10        5  non-null values\n",
       "C11        5  non-null values\n",
       "C12        5  non-null values\n",
       "C13        5  non-null values\n",
       "C14        5  non-null values\n",
       "C15        5  non-null values\n",
       "C16        5  non-null values\n",
       "C17        5  non-null values\n",
       "C18        5  non-null values\n",
       "C19        2  non-null values\n",
       "C20        2  non-null values\n",
       "C21        5  non-null values\n",
       "C22        1  non-null values\n",
       "C23        5  non-null values\n",
       "C24        5  non-null values\n",
       "C25        2  non-null values\n",
       "C26        2  non-null values\n",
       "dtypes: float64(12), int64(2), object(26)"
      ]
     },
     "execution_count": 229,
     "metadata": {},
     "output_type": "execute_result"
    }
   ],
   "source": [
    "firstColumns = [\"Clicked\", \"I1\", \"I2\", \"I3\", \"I4\", \"I5\", \"I6\", \"I7\", \"I8\", \"I9\", \"I10\", \"I11\", \"I12\", \"I13\"]\n",
    "secondColumns = [\"C\" + str(i+1) for i in range(26)]\n",
    "initial_data.columns = firstColumns + secondColumns\n",
    "initial_data.head()"
   ]
  },
  {
   "cell_type": "code",
   "execution_count": 230,
   "metadata": {
    "collapsed": false
   },
   "outputs": [
    {
     "data": {
      "text/plain": [
       "Clicked      int64\n",
       "I1         float64\n",
       "I2           int64\n",
       "I3         float64\n",
       "I4         float64\n",
       "I5         float64\n",
       "I6         float64\n",
       "I7         float64\n",
       "I8         float64\n",
       "I9         float64\n",
       "I10        float64\n",
       "I11        float64\n",
       "I12        float64\n",
       "I13        float64\n",
       "C1          object\n",
       "C2          object\n",
       "C3          object\n",
       "C4          object\n",
       "C5          object\n",
       "C6          object\n",
       "C7          object\n",
       "C8          object\n",
       "C9          object\n",
       "C10         object\n",
       "C11         object\n",
       "C12         object\n",
       "C13         object\n",
       "C14         object\n",
       "C15         object\n",
       "C16         object\n",
       "C17         object\n",
       "C18         object\n",
       "C19         object\n",
       "C20         object\n",
       "C21         object\n",
       "C22         object\n",
       "C23         object\n",
       "C24         object\n",
       "C25         object\n",
       "C26         object\n",
       "dtype: object"
      ]
     },
     "execution_count": 230,
     "metadata": {},
     "output_type": "execute_result"
    }
   ],
   "source": [
    "initial_data.dtypes"
   ]
  },
  {
   "cell_type": "code",
   "execution_count": 231,
   "metadata": {
    "collapsed": false
   },
   "outputs": [
    {
     "data": {
      "text/plain": [
       "array([[<matplotlib.axes._subplots.AxesSubplot object at 0x11f80bc90>]], dtype=object)"
      ]
     },
     "execution_count": 231,
     "metadata": {},
     "output_type": "execute_result"
    },
    {
     "data": {
      "image/png": "[encoded data removed]",
      "text/plain": [
       "<matplotlib.figure.Figure at 0x11b8b8410>"
      ]
     },
     "metadata": {},
     "output_type": "display_data"
    }
   ],
   "source": [
    "# could plot all columns\n",
    "#initial_data.hist()\n",
    "\n",
    "# just want to look at one\n",
    "initial_data.hist(column=\"Clicked\", bins=2)"
   ]
  },
  {
   "cell_type": "code",
   "execution_count": 232,
   "metadata": {
    "collapsed": false
   },
   "outputs": [
    {
     "data": {
      "text/plain": [
       "array([[<matplotlib.axes._subplots.AxesSubplot object at 0x11a413690>]], dtype=object)"
      ]
     },
     "execution_count": 232,
     "metadata": {},
     "output_type": "execute_result"
    },
    {
     "data": {
      "image/png": "[encoded data removed]",
      "text/plain": [
       "<matplotlib.figure.Figure at 0x11a41c5d0>"
      ]
     },
     "metadata": {},
     "output_type": "display_data"
    }
   ],
   "source": [
    "initial_data.hist(column=\"I1\")"
   ]
  },
  {
   "cell_type": "code",
   "execution_count": 233,
   "metadata": {
    "collapsed": false
   },
   "outputs": [
    {
     "data": {
      "text/plain": [
       "array([[<matplotlib.axes._subplots.AxesSubplot object at 0x11a413850>]], dtype=object)"
      ]
     },
     "execution_count": 233,
     "metadata": {},
     "output_type": "execute_result"
    },
    {
     "data": {
      "image/png": "[encoded data removed]",
      "text/plain": [
       "<matplotlib.figure.Figure at 0x11a43efd0>"
      ]
     },
     "metadata": {},
     "output_type": "display_data"
    }
   ],
   "source": [
    "initial_data.apply(pd.value_counts).hist(column=\"C2\")\n",
    "#initial_data['C1'] = initial_data['C1'].astype(str)"
   ]
  },
  {
   "cell_type": "code",
   "execution_count": 234,
   "metadata": {
    "collapsed": false
   },
   "outputs": [
    {
     "name": "stdout",
     "output_type": "stream",
     "text": [
      "100000\n",
      "50000\n",
      "20000\n",
      "30000\n"
     ]
    }
   ],
   "source": [
    "# ------ 2.2 Partitioning the Data ------\n",
    "# Do not have AWS + iPython notebook set up, just going to use the entire sample set\n",
    "# Asked the professor and TA's how to set up iPython + AWS.\n",
    "# Professor told me to just use the sample set for this assignment.\n",
    "\n",
    "# 5 of 10MM rows for training\n",
    "# 2 of 10MM rows for validation\n",
    "# 3 of 10MM rows for testings\n",
    "train5M_ratio = 5/float(10)\n",
    "validation2M_ratio = 2/float(10)\n",
    "test3M_ratio = 3/float(10)\n",
    "\n",
    "numOfRows = len(initial_data.index)\n",
    "\n",
    "# first shuffle the dataframe\n",
    "shuffled_data = initial_data.iloc[np.random.permutation(len(initial_data))]\n",
    "train5M = shuffled_data[:train5M_ratio*numOfRows]\n",
    "validation2M = shuffled_data[train5M_ratio*numOfRows:(train5M_ratio+validation2M_ratio)*numOfRows]\n",
    "test3M = shuffled_data[(train5M_ratio+validation2M_ratio)*numOfRows:]\n",
    "\n",
    "print numOfRows\n",
    "print len(train5M.index)\n",
    "print len(validation2M.index)\n",
    "print len(test3M.index)"
   ]
  },
  {
   "cell_type": "code",
   "execution_count": 235,
   "metadata": {
    "collapsed": false
   },
   "outputs": [
    {
     "name": "stdout",
     "output_type": "stream",
     "text": [
      "***** subsets: ******\n",
      "<class 'pandas.core.frame.DataFrame'>\n",
      "Int64Index: 715 entries, 14516 to 73663\n",
      "Data columns (total 13 columns):\n",
      "I1     715  non-null values\n",
      "I2     715  non-null values\n",
      "I3     715  non-null values\n",
      "I4     715  non-null values\n",
      "I5     715  non-null values\n",
      "I6     715  non-null values\n",
      "I7     715  non-null values\n",
      "I8     715  non-null values\n",
      "I9     715  non-null values\n",
      "I10    715  non-null values\n",
      "I11    715  non-null values\n",
      "I12    715  non-null values\n",
      "I13    715  non-null values\n",
      "dtypes: float64(12), int64(1)\n",
      "<class 'pandas.core.frame.DataFrame'>\n",
      "Int64Index: 715 entries, 14516 to 73663\n",
      "Data columns (total 26 columns):\n",
      "C1     715  non-null values\n",
      "C2     715  non-null values\n",
      "C3     715  non-null values\n",
      "C4     715  non-null values\n",
      "C5     715  non-null values\n",
      "C6     715  non-null values\n",
      "C7     715  non-null values\n",
      "C8     715  non-null values\n",
      "C9     715  non-null values\n",
      "C10    715  non-null values\n",
      "C11    715  non-null values\n",
      "C12    715  non-null values\n",
      "C13    715  non-null values\n",
      "C14    715  non-null values\n",
      "C15    715  non-null values\n",
      "C16    715  non-null values\n",
      "C17    715  non-null values\n",
      "C18    715  non-null values\n",
      "C19    715  non-null values\n",
      "C20    715  non-null values\n",
      "C21    715  non-null values\n",
      "C22    715  non-null values\n",
      "C23    715  non-null values\n",
      "C24    715  non-null values\n",
      "C25    715  non-null values\n",
      "C26    715  non-null values\n",
      "dtypes: object(26)\n",
      "------------------\n",
      "<class 'pandas.core.frame.DataFrame'>\n",
      "Int64Index: 715 entries, 0 to 714\n",
      "Data columns (total 13 columns):\n",
      "I1     715  non-null values\n",
      "I2     715  non-null values\n",
      "I3     715  non-null values\n",
      "I4     715  non-null values\n",
      "I5     715  non-null values\n",
      "I6     715  non-null values\n",
      "I7     715  non-null values\n",
      "I8     715  non-null values\n",
      "I9     715  non-null values\n",
      "I10    715  non-null values\n",
      "I11    715  non-null values\n",
      "I12    715  non-null values\n",
      "I13    715  non-null values\n",
      "dtypes: float64(13)\n",
      "0    0.000000\n",
      "1    0.000000\n",
      "2    0.076577\n",
      "3    0.000000\n",
      "4    0.004505\n",
      "Name: I1, dtype: float64\n",
      "               I1          I2          I3          I4          I5          I6          I7          I8          I9         I10         I11         I12         I13\n",
      "count  715.000000  715.000000  715.000000  715.000000  715.000000  715.000000  715.000000  715.000000  715.000000  715.000000  715.000000  715.000000  715.000000\n",
      "mean     0.030045    0.032100    0.006474    0.166331    0.034257    0.009747    0.049186    0.414585    0.063285    0.156084    0.090520    0.031008    0.078959\n",
      "std      0.064743    0.093783    0.043301    0.171986    0.075780    0.054021    0.101365    0.296902    0.099658    0.146390    0.120830    0.088079    0.110976\n",
      "min      0.000000    0.000000    0.000000    0.000000    0.000000    0.000000    0.000000    0.000000    0.000000    0.000000    0.000000    0.000000    0.000000\n",
      "25%      0.000000    0.000587    0.000613    0.044118    0.000575    0.000658    0.005368    0.142857    0.009113    0.000000    0.025316    0.000000    0.011834\n",
      "50%      0.009009    0.001761    0.001594    0.102941    0.007175    0.002633    0.015337    0.367347    0.028537    0.200000    0.050633    0.000000    0.041420\n",
      "75%      0.031532    0.013795    0.004781    0.220588    0.040504    0.007460    0.039110    0.653061    0.072662    0.200000    0.101266    0.024390    0.103550\n",
      "max      1.000000    1.000000    1.000000    1.000000    1.000000    1.000000    1.000000    1.000000    1.000000    1.000000    1.000000    1.000000    1.000000\n"
     ]
    }
   ],
   "source": [
    "# ------ 2.3 Normalization and Feature Engineering ------\n",
    "\n",
    "#  standardize the Integer variables, linearly scale them so that they are between 0 and 1\n",
    "from sklearn.preprocessing import MinMaxScaler\n",
    "\n",
    "noNullDataFrame = train5M.dropna()\n",
    "# if don't want to drop so many rows, could also:\n",
    "#noNulls = subset.fillna(0)\n",
    "\n",
    "\n",
    "# Split the train5M DataFrame into two DataFrames\n",
    "#df_scaled = pd.DataFrame(MinMaxScaler().fit_transform(train5M), columns=train5M.columns)\n",
    "#subsetI = train5M.ix[:, 'I1':'I13']\n",
    "#subsetC = train5M.ix[:, 'C1':'C26']\n",
    "subsetI = noNullDataFrame.ix[:, 'I1':'I13']\n",
    "subsetC = noNullDataFrame.ix[:, 'C1':'C26']\n",
    "print '***** subsets: ******'\n",
    "print subsetI\n",
    "print subsetC\n",
    "\n",
    "print '------------------'\n",
    "\n",
    "#train5M.ix[:, 'I1':'I13'].apply(MinMaxScaler().fit_transform(train5M))\n",
    "dfI_scaled = pd.DataFrame(MinMaxScaler().fit_transform(subsetI), columns=subsetI.columns)\n",
    "print dfI_scaled\n",
    "print dfI_scaled['I1'].head()\n",
    "print dfI_scaled.describe()\n",
    "dfI_scaled.describe().to_csv('dfI_describe2.csv')"
   ]
  },
  {
   "cell_type": "code",
   "execution_count": 236,
   "metadata": {
    "collapsed": true
   },
   "outputs": [],
   "source": [
    "# drop the features/columns with the highest standard deviations\n",
    "# don't want inconsistent data in the model\n",
    "# highest std devs:\n",
    "# [{I8: 0.2871},{I10: 0.1543}, {I4: 0.1399}, {I2: 0.1189}]\n",
    "# conclude drop: I2, I4, I8, I10"
   ]
  },
  {
   "cell_type": "code",
   "execution_count": 237,
   "metadata": {
    "collapsed": false
   },
   "outputs": [],
   "source": [
    "# Decide which of the 26 categorical variables am going to drop\n",
    "# choose one approach for all categorical features and do the same\n",
    "# You can do one-hot encoding, retain only the top few of distinct values of a categorical feature (by using the histogram information)and then perform one-hot encoding\n",
    "# compute a rate value for the categorical feature and use that rate value instead\n",
    "#or do something more elaborate such as computing TF*IDF estimates"
   ]
  },
  {
   "cell_type": "code",
   "execution_count": 238,
   "metadata": {
    "collapsed": false
   },
   "outputs": [
    {
     "data": {
      "text/plain": [
       "14516    be589b51\n",
       "89625    05db9164\n",
       "64800    05db9164\n",
       "73539    05db9164\n",
       "30678    05db9164\n",
       "32549    5bfa8ab5\n",
       "94685    05db9164\n",
       "2724     05db9164\n",
       "7839     05db9164\n",
       "97932    68fd1e64\n",
       "57661    05db9164\n",
       "55396    68fd1e64\n",
       "37073    05db9164\n",
       "86174    68fd1e64\n",
       "54706    68fd1e64\n",
       "...\n",
       "77093    68fd1e64\n",
       "68867    87552397\n",
       "38789    05db9164\n",
       "22625    05db9164\n",
       "45139    05db9164\n",
       "4416     68fd1e64\n",
       "9849     05db9164\n",
       "7067     87552397\n",
       "19459    05db9164\n",
       "20090    78d311d4\n",
       "75898    68fd1e64\n",
       "819      5a9ed9b0\n",
       "37542    68fd1e64\n",
       "3243     05db9164\n",
       "73663    5a9ed9b0\n",
       "Name: C1, Length: 715, dtype: object"
      ]
     },
     "execution_count": 238,
     "metadata": {},
     "output_type": "execute_result"
    }
   ],
   "source": [
    "subsetC['C1']"
   ]
  },
  {
   "cell_type": "code",
   "execution_count": 239,
   "metadata": {
    "collapsed": true
   },
   "outputs": [],
   "source": [
    "# use OneHotEncoder to finish preprocessing features\n",
    "# then can perform feature engineering, run model"
   ]
  },
  {
   "cell_type": "code",
   "execution_count": 240,
   "metadata": {
    "collapsed": false
   },
   "outputs": [
    {
     "name": "stdout",
     "output_type": "stream",
     "text": [
      "<class 'pandas.core.frame.DataFrame'>\n",
      "Int64Index: 715 entries, 14516 to 73663\n",
      "Data columns (total 26 columns):\n",
      "C1     715  non-null values\n",
      "C2     715  non-null values\n",
      "C3     715  non-null values\n",
      "C4     715  non-null values\n",
      "C5     715  non-null values\n",
      "C6     715  non-null values\n",
      "C7     715  non-null values\n",
      "C8     715  non-null values\n",
      "C9     715  non-null values\n",
      "C10    715  non-null values\n",
      "C11    715  non-null values\n",
      "C12    715  non-null values\n",
      "C13    715  non-null values\n",
      "C14    715  non-null values\n",
      "C15    715  non-null values\n",
      "C16    715  non-null values\n",
      "C17    715  non-null values\n",
      "C18    715  non-null values\n",
      "C19    715  non-null values\n",
      "C20    715  non-null values\n",
      "C21    715  non-null values\n",
      "C22    715  non-null values\n",
      "C23    715  non-null values\n",
      "C24    715  non-null values\n",
      "C25    715  non-null values\n",
      "C26    715  non-null values\n",
      "dtypes: object(26)\n",
      "OneHotEncoder(categorical_features=all, dtype=<type 'float'>,\n",
      "       n_values=<class 'pandas.core.frame.DataFrame'>\n",
      "Int64Index: 715 entries, 14516 to 73663\n",
      "Data columns (total 26 columns):\n",
      "C1     715  non-null values\n",
      "C2     715  non-null values\n",
      "C3     715  non-null values\n",
      "C4     715  non-null values\n",
      "C5     715  non-null values\n",
      "C6     715  non-null values\n",
      "C7     715  ...4    715  non-null values\n",
      "C25    715  non-null values\n",
      "C26    715  non-null values\n",
      "dtypes: object(26))\n"
     ]
    },
    {
     "data": {
      "text/plain": [
       "\"\\nprint '-------------------------------------'\\n#print subsetC_encoded.describe()\\n#print subsetC_encoded.head()\\n\""
      ]
     },
     "execution_count": 240,
     "metadata": {},
     "output_type": "execute_result"
    }
   ],
   "source": [
    "import sklearn\n",
    "\n",
    "# first\n",
    "# need to convert each categorical feature/column to an int\n",
    "\n",
    "# recall that we split train5M into two dataframes \n",
    "# we just need the categorical columns as a DataFrame\n",
    "print subsetC\n",
    "\n",
    "# make function to convert categorical columns to ints\n",
    "def columnsToInts(col):\n",
    "    return int(col, 16)\n",
    "    '''\n",
    "    try:\n",
    "        anna = int(col, 16)\n",
    "    except: \n",
    "        anna = int(col)\n",
    "    finally:\n",
    "        return anna\n",
    "    '''\n",
    "\n",
    "#dan = subsetC['C1'].apply(columnsToInts) #passes a Series object, row-wise\n",
    "#print dan.describe()\n",
    "\n",
    "#pone = subsetC.apply(columnsToInts, axis=1)\n",
    "#print pone.describe()\n",
    "\n",
    "#subsetC.loc[90069].apply(columnsToInts) #passes a Series object, row-wise      \n",
    "#subsetC.apply(columnsToInts, axis=1) #passes a Series object, row-wise\n",
    "# returns the error: TypeError: (\"int() can't convert non-string with explicit base\", u'occurred at index 90069')\n",
    "#print subsetC\n",
    "\n",
    "\n",
    "\n",
    "subsetC_encoded = sklearn.preprocessing.OneHotEncoder(subsetC)\n",
    "print subsetC_encoded\n",
    "'''\n",
    "print '-------------------------------------'\n",
    "#print subsetC_encoded.describe()\n",
    "#print subsetC_encoded.head()\n",
    "'''"
   ]
  },
  {
   "cell_type": "code",
   "execution_count": 241,
   "metadata": {
    "collapsed": false
   },
   "outputs": [
    {
     "name": "stdout",
     "output_type": "stream",
     "text": [
      "       Clicked\n",
      "14516        0\n",
      "89625        0\n",
      "64800        0\n",
      "73539        0\n",
      "30678        0\n",
      "   index  Clicked\n",
      "0  14516        0\n",
      "1  89625        0\n",
      "2  64800        0\n",
      "3  73539        0\n",
      "4  30678        0\n",
      "     index  Clicked\n",
      "710  75898        0\n",
      "711    819        0\n",
      "712  37542        0\n",
      "713   3243        0\n",
      "714  73663        1\n",
      "<class 'pandas.core.frame.DataFrame'>\n",
      "Int64Index: 5 entries, 0 to 4\n",
      "Data columns (total 40 columns):\n",
      "I1         5  non-null values\n",
      "I2         5  non-null values\n",
      "I3         5  non-null values\n",
      "I4         5  non-null values\n",
      "I5         5  non-null values\n",
      "I6         5  non-null values\n",
      "I7         5  non-null values\n",
      "I8         5  non-null values\n",
      "I9         5  non-null values\n",
      "I10        5  non-null values\n",
      "I11        5  non-null values\n",
      "I12        5  non-null values\n",
      "I13        5  non-null values\n",
      "Clicked    5  non-null values\n",
      "C1         5  non-null values\n",
      "C2         5  non-null values\n",
      "C3         5  non-null values\n",
      "C4         5  non-null values\n",
      "C5         5  non-null values\n",
      "C6         5  non-null values\n",
      "C7         5  non-null values\n",
      "C8         5  non-null values\n",
      "C9         5  non-null values\n",
      "C10        5  non-null values\n",
      "C11        5  non-null values\n",
      "C12        5  non-null values\n",
      "C13        5  non-null values\n",
      "C14        5  non-null values\n",
      "C15        5  non-null values\n",
      "C16        5  non-null values\n",
      "C17        5  non-null values\n",
      "C18        5  non-null values\n",
      "C19        5  non-null values\n",
      "C20        5  non-null values\n",
      "C21        5  non-null values\n",
      "C22        5  non-null values\n",
      "C23        5  non-null values\n",
      "C24        5  non-null values\n",
      "C25        5  non-null values\n",
      "C26        5  non-null values\n",
      "dtypes: float64(13), int64(1), object(26)\n"
     ]
    }
   ],
   "source": [
    "# combine I and C DataFrames into one to use for the model\n",
    "# subsetC_encoded, dfI_scaled & Clicked column\n",
    "\n",
    "clicked = pd.DataFrame(noNullDataFrame['Clicked'])\n",
    "\n",
    "#df = pd.concat([clicked, dfI_scaled], axis=1, ignore_index=True)\n",
    "#df = dfI_scaled.join([clicked])\n",
    "#print df\n",
    "\n",
    "print clicked.head()\n",
    "\n",
    "clicked_new = clicked.reset_index()\n",
    "print clicked_new.head()\n",
    "print clicked_new.tail()\n",
    "\n",
    "subsetC_new = subsetC.reset_index()\n",
    "\n",
    "#df = dfI_scaled.join([clicked, subsetC], how='inner')\n",
    "df_first = pd.concat([dfI_scaled, clicked_new], axis=1)\n",
    "df_first = df_first.drop('index', 1)\n",
    "\n",
    "df_old = pd.concat([df_first, subsetC_new], axis=1)\n",
    "df = df_old.drop('index', 1)\n",
    "\n",
    "print df.head()\n",
    "df.to_csv('ponnnning.csv')"
   ]
  },
  {
   "cell_type": "code",
   "execution_count": 242,
   "metadata": {
    "collapsed": false
   },
   "outputs": [
    {
     "name": "stdout",
     "output_type": "stream",
     "text": [
      "<class 'pandas.core.frame.DataFrame'>\n",
      "Int64Index: 5 entries, 0 to 4\n",
      "Columns: 5732 entries, (C1, 05db9164) to (C26, fffa8e76)\n",
      "dtypes: float64(5732)\n"
     ]
    }
   ],
   "source": [
    "# Need to encode data, OneHotEncoder() made it difficult to merge DataFrames\n",
    "\n",
    "subsetC = df.ix[:, 'C1':'C26']\n",
    "#print subsetC\n",
    "\n",
    "#pd.concat([pd.get_dummies(df[col]) for col in df], axis=1, keys=df.columns)\n",
    "\n",
    "# WOULD work if I didn't have old version of pandas\n",
    "#pd.get_dummies(X)\n",
    "\n",
    "df_C_encoded = pd.concat([pd.get_dummies(subsetC[col]) for col in subsetC], axis=1, keys=subsetC.columns)\n",
    "print df_C_encoded.head(5)"
   ]
  },
  {
   "cell_type": "code",
   "execution_count": 243,
   "metadata": {
    "collapsed": true
   },
   "outputs": [],
   "source": [
    "# Now have training data\n",
    "# DONE WITH SECTION 2"
   ]
  },
  {
   "cell_type": "code",
   "execution_count": 244,
   "metadata": {
    "collapsed": true
   },
   "outputs": [],
   "source": [
    "# ------ 3 Modeling and Evaluation ------\n",
    "\n",
    "#If working by yourself, submitting just one model is enough. \n",
    "# You should test out Logistic Regression\n",
    "# In your assignment, you should submit the ROC curves and AUC values for your models on the test set.\n",
    "\n",
    "# So, do logistic regression, then calc AUC values and ROC curve"
   ]
  },
  {
   "cell_type": "code",
   "execution_count": 245,
   "metadata": {
    "collapsed": false
   },
   "outputs": [
    {
     "data": {
      "image/png": "[encoded data removed]",
      "text/plain": [
       "<matplotlib.figure.Figure at 0x11a54b5d0>"
      ]
     },
     "metadata": {},
     "output_type": "display_data"
    },
    {
     "data": {
      "text/plain": [
       "<ggplot: (296045413)>"
      ]
     },
     "execution_count": 245,
     "metadata": {},
     "output_type": "execute_result"
    }
   ],
   "source": [
    "from sklearn.linear_model import LogisticRegression\n",
    "from sklearn.metrics import roc_curve\n",
    "from sklearn.metrics import roc_auc_score\n",
    "from sklearn import metrics\n",
    "from ggplot import *\n",
    "\n",
    "secondColumns = [\"I\" + str(i+1) for i in range(13)]\n",
    "\n",
    "#X = df.ix[:, df.columns != 'Clicked' and df.columns not in [\"C\" + str(i+1) for i in range(26)]]\n",
    "X = df.ix[:, secondColumns]\n",
    "\n",
    "# features to train model off of\n",
    "#X = df.ix[:, df.columns != 'Clicked']\n",
    "\n",
    "# results to predict in test set, training the model\n",
    "y = df['Clicked']\n",
    "\n",
    "#X = iris.data[:, :2]  # we only take the first two features.\n",
    "#Y = iris.target\n",
    "\n",
    "# instantiate a logistic regression model, and fit with X and y\n",
    "model = LogisticRegression()\n",
    "model = model.fit(X, y)\n",
    "\n",
    "# check the accuracy on the training set\n",
    "model.score(X, y)\n",
    "\n",
    "scores = model.predict_proba(X)\n",
    "\n",
    "#fpr, tpr = sklearn.metrics.roc_curve(y, scores)\n",
    "\n",
    "preds = model.predict_proba(X)[:,1]\n",
    "fpr, tpr, _ = metrics.roc_curve(y, preds)\n",
    "\n",
    "df = pd.DataFrame(dict(fpr=fpr, tpr=tpr))\n",
    "ggplot(df, aes(x='fpr', y='tpr')) +\\\n",
    "    geom_line() +\\\n",
    "    geom_abline(linetype='dashed')"
   ]
  },
  {
   "cell_type": "code",
   "execution_count": 247,
   "metadata": {
    "collapsed": false
   },
   "outputs": [
    {
     "data": {
      "image/png": "[encoded data removed]",
      "text/plain": [
       "<matplotlib.figure.Figure at 0x11a9d5e90>"
      ]
     },
     "metadata": {},
     "output_type": "display_data"
    },
    {
     "data": {
      "text/plain": [
       "<ggplot: (296467697)>"
      ]
     },
     "execution_count": 247,
     "metadata": {},
     "output_type": "execute_result"
    }
   ],
   "source": [
    "auc = metrics.auc(fpr,tpr)\n",
    "ggplot(df, aes(x='fpr', ymin=0, ymax='tpr')) +\\\n",
    "    geom_area(alpha=0.2) +\\\n",
    "    geom_line(aes(y='tpr')) +\\\n",
    "    ggtitle(\"ROC Curve w/ AUC=%s\" % str(auc))"
   ]
  },
  {
   "cell_type": "code",
   "execution_count": null,
   "metadata": {
    "collapsed": true
   },
   "outputs": [],
   "source": [
    "# ------------ Write up ------------\n"
   ]
  }
 ],
 "metadata": {
  "kernelspec": {
   "display_name": "Python 2",
   "language": "python",
   "name": "python2"
  },
  "language_info": {
   "codemirror_mode": {
    "name": "ipython",
    "version": 2
   },
   "file_extension": ".py",
   "mimetype": "text/x-python",
   "name": "python",
   "nbconvert_exporter": "python",
   "pygments_lexer": "ipython2",
   "version": "2.7.10"
  }
 },
 "nbformat": 4,
 "nbformat_minor": 0
}
