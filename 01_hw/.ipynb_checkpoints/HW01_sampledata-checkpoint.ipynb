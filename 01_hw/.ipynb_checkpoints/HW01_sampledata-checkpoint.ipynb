{
 "cells": [
  {
   "cell_type": "code",
   "execution_count": 8,
   "metadata": {
    "collapsed": false
   },
   "outputs": [
    {
     "data": {
      "text/plain": [
       "<pyspark.context.SparkContext at 0x109177590>"
      ]
     },
     "execution_count": 8,
     "metadata": {},
     "output_type": "execute_result"
    }
   ],
   "source": [
    "sc"
   ]
  },
  {
   "cell_type": "code",
   "execution_count": 9,
   "metadata": {
    "collapsed": true
   },
   "outputs": [],
   "source": [
    "import pandas as pd\n",
    "import numpy as np\n",
    "\n",
    "%matplotlib inline\n",
    "import matplotlib.pyplot as plt"
   ]
  },
  {
   "cell_type": "code",
   "execution_count": 10,
   "metadata": {
    "collapsed": false
   },
   "outputs": [],
   "source": [
    "# ------ 2.1 Summary Statistics ------\n",
    "# plot a histogram of integer and categorical features\n",
    "# working alone so plotting one of each\n",
    "# also compute the mean and std dev of each column"
   ]
  },
  {
   "cell_type": "code",
   "execution_count": 11,
   "metadata": {
    "collapsed": false
   },
   "outputs": [
    {
     "name": "stdout",
     "output_type": "stream",
     "text": [
      "                  0             1              2             3             4   \\\n",
      "count  100000.000000  55587.000000  100000.000000  80898.000000  80466.000000   \n",
      "mean        0.226630      3.768723     112.863730     40.744913      8.280317   \n",
      "std         0.418653     10.451209     401.522636    538.818822     10.836336   \n",
      "min         0.000000      0.000000      -2.000000      0.000000      0.000000   \n",
      "25%         0.000000      0.000000       0.000000      3.000000      2.000000   \n",
      "50%         0.000000      1.000000       3.000000      8.000000      5.000000   \n",
      "75%         0.000000      3.000000      40.000000     23.000000     11.000000   \n",
      "max         1.000000    556.000000   18522.000000  65535.000000    417.000000   \n",
      "\n",
      "                   5             6             7             8             9   \\\n",
      "count    95240.000000  74893.000000  95281.000000  99893.000000  95281.000000   \n",
      "mean     17592.599402    139.685084     15.222090     13.574825    125.294907   \n",
      "std      65797.898069    371.776092     65.460487     46.541593    286.415686   \n",
      "min          0.000000      0.000000      0.000000      0.000000      0.000000   \n",
      "25%        228.000000      9.000000      0.000000      2.000000     10.000000   \n",
      "50%       2213.000000     37.000000      3.000000      8.000000     40.000000   \n",
      "75%      10209.000000    122.000000     11.000000     20.000000    120.000000   \n",
      "max    1741128.000000  16290.000000   8807.000000   4677.000000  12661.000000   \n",
      "\n",
      "                 10            11            12            13  \n",
      "count  55587.000000  95281.000000  22820.000000  80466.000000  \n",
      "mean       0.620109      2.400269      0.937774     11.607636  \n",
      "std        0.677055      4.629926      5.327668     52.044556  \n",
      "min        0.000000      0.000000      0.000000      0.000000  \n",
      "25%        0.000000      0.000000      0.000000      2.000000  \n",
      "50%        1.000000      1.000000      0.000000      5.000000  \n",
      "75%        1.000000      2.000000      1.000000     13.000000  \n",
      "max        6.000000    104.000000    493.000000   6558.000000  \n",
      "<class 'pandas.core.frame.DataFrame'>\n",
      "Int64Index: 5 entries, 0 to 4\n",
      "Data columns (total 40 columns):\n",
      "0     5  non-null values\n",
      "1     4  non-null values\n",
      "2     5  non-null values\n",
      "3     3  non-null values\n",
      "4     4  non-null values\n",
      "5     5  non-null values\n",
      "6     4  non-null values\n",
      "7     5  non-null values\n",
      "8     5  non-null values\n",
      "9     5  non-null values\n",
      "10    4  non-null values\n",
      "11    5  non-null values\n",
      "12    1  non-null values\n",
      "13    4  non-null values\n",
      "14    5  non-null values\n",
      "15    5  non-null values\n",
      "16    5  non-null values\n",
      "17    5  non-null values\n",
      "18    5  non-null values\n",
      "19    5  non-null values\n",
      "20    5  non-null values\n",
      "21    5  non-null values\n",
      "22    5  non-null values\n",
      "23    5  non-null values\n",
      "24    5  non-null values\n",
      "25    5  non-null values\n",
      "26    5  non-null values\n",
      "27    5  non-null values\n",
      "28    5  non-null values\n",
      "29    5  non-null values\n",
      "30    5  non-null values\n",
      "31    5  non-null values\n",
      "32    2  non-null values\n",
      "33    2  non-null values\n",
      "34    5  non-null values\n",
      "35    1  non-null values\n",
      "36    5  non-null values\n",
      "37    5  non-null values\n",
      "38    2  non-null values\n",
      "39    2  non-null values\n",
      "dtypes: float64(12), int64(2), object(26)\n"
     ]
    }
   ],
   "source": [
    "initial_data = pd.read_csv('dac_sample/dac_sample.txt', sep=\"\\t\", header=None)\n",
    "print initial_data.describe()\n",
    "print initial_data.head()"
   ]
  },
  {
   "cell_type": "code",
   "execution_count": 12,
   "metadata": {
    "collapsed": false
   },
   "outputs": [
    {
     "data": {
      "text/html": [
       "<pre>\n",
       "&lt;class 'pandas.core.frame.DataFrame'&gt;\n",
       "Int64Index: 5 entries, 0 to 4\n",
       "Data columns (total 40 columns):\n",
       "Clicked    5  non-null values\n",
       "I1         4  non-null values\n",
       "I2         5  non-null values\n",
       "I3         3  non-null values\n",
       "I4         4  non-null values\n",
       "I5         5  non-null values\n",
       "I6         4  non-null values\n",
       "I7         5  non-null values\n",
       "I8         5  non-null values\n",
       "I9         5  non-null values\n",
       "I10        4  non-null values\n",
       "I11        5  non-null values\n",
       "I12        1  non-null values\n",
       "I13        4  non-null values\n",
       "C1         5  non-null values\n",
       "C2         5  non-null values\n",
       "C3         5  non-null values\n",
       "C4         5  non-null values\n",
       "C5         5  non-null values\n",
       "C6         5  non-null values\n",
       "C7         5  non-null values\n",
       "C8         5  non-null values\n",
       "C9         5  non-null values\n",
       "C10        5  non-null values\n",
       "C11        5  non-null values\n",
       "C12        5  non-null values\n",
       "C13        5  non-null values\n",
       "C14        5  non-null values\n",
       "C15        5  non-null values\n",
       "C16        5  non-null values\n",
       "C17        5  non-null values\n",
       "C18        5  non-null values\n",
       "C19        2  non-null values\n",
       "C20        2  non-null values\n",
       "C21        5  non-null values\n",
       "C22        1  non-null values\n",
       "C23        5  non-null values\n",
       "C24        5  non-null values\n",
       "C25        2  non-null values\n",
       "C26        2  non-null values\n",
       "dtypes: float64(12), int64(2), object(26)\n",
       "</pre>"
      ],
      "text/plain": [
       "<class 'pandas.core.frame.DataFrame'>\n",
       "Int64Index: 5 entries, 0 to 4\n",
       "Data columns (total 40 columns):\n",
       "Clicked    5  non-null values\n",
       "I1         4  non-null values\n",
       "I2         5  non-null values\n",
       "I3         3  non-null values\n",
       "I4         4  non-null values\n",
       "I5         5  non-null values\n",
       "I6         4  non-null values\n",
       "I7         5  non-null values\n",
       "I8         5  non-null values\n",
       "I9         5  non-null values\n",
       "I10        4  non-null values\n",
       "I11        5  non-null values\n",
       "I12        1  non-null values\n",
       "I13        4  non-null values\n",
       "C1         5  non-null values\n",
       "C2         5  non-null values\n",
       "C3         5  non-null values\n",
       "C4         5  non-null values\n",
       "C5         5  non-null values\n",
       "C6         5  non-null values\n",
       "C7         5  non-null values\n",
       "C8         5  non-null values\n",
       "C9         5  non-null values\n",
       "C10        5  non-null values\n",
       "C11        5  non-null values\n",
       "C12        5  non-null values\n",
       "C13        5  non-null values\n",
       "C14        5  non-null values\n",
       "C15        5  non-null values\n",
       "C16        5  non-null values\n",
       "C17        5  non-null values\n",
       "C18        5  non-null values\n",
       "C19        2  non-null values\n",
       "C20        2  non-null values\n",
       "C21        5  non-null values\n",
       "C22        1  non-null values\n",
       "C23        5  non-null values\n",
       "C24        5  non-null values\n",
       "C25        2  non-null values\n",
       "C26        2  non-null values\n",
       "dtypes: float64(12), int64(2), object(26)"
      ]
     },
     "execution_count": 12,
     "metadata": {},
     "output_type": "execute_result"
    }
   ],
   "source": [
    "firstColumns = [\"Clicked\", \"I1\", \"I2\", \"I3\", \"I4\", \"I5\", \"I6\", \"I7\", \"I8\", \"I9\", \"I10\", \"I11\", \"I12\", \"I13\"]\n",
    "secondColumns = [\"C\" + str(i+1) for i in range(26)]\n",
    "initial_data.columns = firstColumns + secondColumns\n",
    "initial_data.head()"
   ]
  },
  {
   "cell_type": "code",
   "execution_count": 13,
   "metadata": {
    "collapsed": false
   },
   "outputs": [
    {
     "data": {
      "text/plain": [
       "Clicked      int64\n",
       "I1         float64\n",
       "I2           int64\n",
       "I3         float64\n",
       "I4         float64\n",
       "I5         float64\n",
       "I6         float64\n",
       "I7         float64\n",
       "I8         float64\n",
       "I9         float64\n",
       "I10        float64\n",
       "I11        float64\n",
       "I12        float64\n",
       "I13        float64\n",
       "C1          object\n",
       "C2          object\n",
       "C3          object\n",
       "C4          object\n",
       "C5          object\n",
       "C6          object\n",
       "C7          object\n",
       "C8          object\n",
       "C9          object\n",
       "C10         object\n",
       "C11         object\n",
       "C12         object\n",
       "C13         object\n",
       "C14         object\n",
       "C15         object\n",
       "C16         object\n",
       "C17         object\n",
       "C18         object\n",
       "C19         object\n",
       "C20         object\n",
       "C21         object\n",
       "C22         object\n",
       "C23         object\n",
       "C24         object\n",
       "C25         object\n",
       "C26         object\n",
       "dtype: object"
      ]
     },
     "execution_count": 13,
     "metadata": {},
     "output_type": "execute_result"
    }
   ],
   "source": [
    "initial_data.dtypes"
   ]
  },
  {
   "cell_type": "code",
   "execution_count": 19,
   "metadata": {
    "collapsed": false
   },
   "outputs": [
    {
     "data": {
      "text/plain": [
       "array([[<matplotlib.axes._subplots.AxesSubplot object at 0x10c29edd0>]], dtype=object)"
      ]
     },
     "execution_count": 19,
     "metadata": {},
     "output_type": "execute_result"
    },
    {
     "data": {
      "image/png": "[encoded data removed]",
      "text/plain": [
       "<matplotlib.figure.Figure at 0x10b9f6a50>"
      ]
     },
     "metadata": {},
     "output_type": "display_data"
    }
   ],
   "source": [
    "initial_data.hist(column=\"Clicked\", bins=2)"
   ]
  },
  {
   "cell_type": "code",
   "execution_count": 23,
   "metadata": {
    "collapsed": false
   },
   "outputs": [
    {
     "data": {
      "text/plain": [
       "array([[<matplotlib.axes._subplots.AxesSubplot object at 0x10c8d1e90>]], dtype=object)"
      ]
     },
     "execution_count": 23,
     "metadata": {},
     "output_type": "execute_result"
    },
    {
     "data": {
      "image/png": "[encoded data removed]",
      "text/plain": [
       "<matplotlib.figure.Figure at 0x10c8dcd90>"
      ]
     },
     "metadata": {},
     "output_type": "display_data"
    }
   ],
   "source": [
    "initial_data.hist(column=\"I1\")"
   ]
  },
  {
   "cell_type": "code",
   "execution_count": 33,
   "metadata": {
    "collapsed": false
   },
   "outputs": [
    {
     "data": {
      "text/plain": [
       "array([[<matplotlib.axes._subplots.AxesSubplot object at 0x10cbd6910>]], dtype=object)"
      ]
     },
     "execution_count": 33,
     "metadata": {},
     "output_type": "execute_result"
    },
    {
     "data": {
      "image/png": "[encoded data removed]",
      "text/plain": [
       "<matplotlib.figure.Figure at 0x10c5d35d0>"
      ]
     },
     "metadata": {},
     "output_type": "display_data"
    }
   ],
   "source": [
    "initial_data.apply(pd.value_counts).hist(column=\"C2\")\n",
    "#initial_data['C1'] = initial_data['C1'].astype(str)"
   ]
  },
  {
   "cell_type": "code",
   "execution_count": 34,
   "metadata": {
    "collapsed": true
   },
   "outputs": [],
   "source": [
    "# ------ 2.2 Partitioning the Data ------\n",
    "# Do not have AWS + iPython notebook set up, just going to use the entire sample set\n",
    "\n",
    "# 5 of 10MM rows for training\n",
    "# 2 of 10MM rows for validation\n",
    "# 3 of 10MM rows for testings\n",
    "train5M_ratio = 5/10\n",
    "validation2M_ratio = 2/10\n",
    "test3M_ratio = 3/10\n",
    "\n",
    "# first shuffle the dataframe\n",
    "shuffled_data = initial_data.iloc[np.random.permutation(len(initial_data))]\n",
    "train5M = shuffled_data[:train5M_ratio]\n",
    "validation2M = shuffled_data[(2/10)]\n",
    "test3M = shuffled_data[(3/10)]"
   ]
  }
 ],
 "metadata": {
  "kernelspec": {
   "display_name": "Python 2",
   "language": "python",
   "name": "python2"
  },
  "language_info": {
   "codemirror_mode": {
    "name": "ipython",
    "version": 2
   },
   "file_extension": ".py",
   "mimetype": "text/x-python",
   "name": "python",
   "nbconvert_exporter": "python",
   "pygments_lexer": "ipython2",
   "version": "2.7.10"
  }
 },
 "nbformat": 4,
 "nbformat_minor": 0
}
